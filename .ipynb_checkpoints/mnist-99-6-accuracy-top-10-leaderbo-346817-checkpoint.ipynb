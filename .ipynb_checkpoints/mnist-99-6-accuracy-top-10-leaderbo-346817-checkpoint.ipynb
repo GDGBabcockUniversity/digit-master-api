{
 "cells": [
  {
   "cell_type": "markdown",
   "metadata": {},
   "source": [
    "# #️⃣ MNIST Classification - 99.6% Accuracy (TOP 10% Leaderboard)"
   ]
  },
  {
   "cell_type": "markdown",
   "metadata": {},
   "source": [
    "<img src='https://drive.google.com/uc?export=download&id=16b1e8LPq6YwepaXv2UEbKZ5tjpZ0nqoe'>"
   ]
  },
  {
   "cell_type": "markdown",
   "metadata": {},
   "source": [
    "This notebooks aims to permform a very high score (99.6%) based on the famous **MNIST dataset** from Kaggle containing *42000 examples* in the training set.\n",
    "\n",
    "Once the model trained, predictions will be made on the *28000 test images* and submitted to the competition."
   ]
  },
  {
   "cell_type": "markdown",
   "metadata": {},
   "source": [
    "# Getting Started"
   ]
  },
  {
   "cell_type": "code",
   "execution_count": null,
   "metadata": {
    "execution": {
     "iopub.execute_input": "2022-10-25T07:14:15.344702Z",
     "iopub.status.busy": "2022-10-25T07:14:15.344063Z",
     "iopub.status.idle": "2022-10-25T07:14:21.289925Z",
     "shell.execute_reply": "2022-10-25T07:14:21.288918Z",
     "shell.execute_reply.started": "2022-10-25T07:14:15.344598Z"
    }
   },
   "outputs": [],
   "source": [
    "import numpy as np\n",
    "import pandas as pd\n",
    "import matplotlib.pyplot as plt\n",
    "import tensorflow as tf\n",
    "from sklearn.model_selection import train_test_split"
   ]
  },
  {
   "cell_type": "markdown",
   "metadata": {},
   "source": [
    "# Load Data"
   ]
  },
  {
   "cell_type": "code",
   "execution_count": null,
   "metadata": {
    "execution": {
     "iopub.execute_input": "2022-10-25T07:14:21.293637Z",
     "iopub.status.busy": "2022-10-25T07:14:21.292538Z",
     "iopub.status.idle": "2022-10-25T07:14:26.165490Z",
     "shell.execute_reply": "2022-10-25T07:14:26.164357Z",
     "shell.execute_reply.started": "2022-10-25T07:14:21.293596Z"
    }
   },
   "outputs": [],
   "source": [
    "# Load the images into pandas dataframes\n",
    "train = pd.read_csv('./train.csv')\n",
    "test = pd.read_csv('./test.csv')\n",
    "\n",
    "# Prepare X and y\n",
    "X_train = (train.drop('label', axis=1) / 255).values.reshape(-1, 28, 28, 1)\n",
    "X_test = (test / 255).values.reshape(-1, 28, 28, 1)\n",
    "y_train = np.array(pd.get_dummies(train['label']))"
   ]
  },
  {
   "cell_type": "markdown",
   "metadata": {},
   "source": [
    "# Display Data"
   ]
  },
  {
   "cell_type": "code",
   "execution_count": null,
   "metadata": {
    "execution": {
     "iopub.execute_input": "2022-10-25T07:14:26.178268Z",
     "iopub.status.busy": "2022-10-25T07:14:26.177655Z",
     "iopub.status.idle": "2022-10-25T07:14:27.396660Z",
     "shell.execute_reply": "2022-10-25T07:14:27.395794Z",
     "shell.execute_reply.started": "2022-10-25T07:14:26.178229Z"
    }
   },
   "outputs": [],
   "source": [
    "plt.figure(figsize=(18, 4))\n",
    "\n",
    "for i in range(36):\n",
    "    plt.subplot(3, 12, i+1)\n",
    "    plt.imshow(X_train[i], cmap='binary')\n",
    "    plt.axis('off')\n",
    "\n",
    "plt.show()"
   ]
  },
  {
   "cell_type": "markdown",
   "metadata": {},
   "source": [
    "# Generate More Images"
   ]
  },
  {
   "cell_type": "code",
   "execution_count": null,
   "metadata": {
    "execution": {
     "iopub.execute_input": "2022-10-25T07:14:27.398434Z",
     "iopub.status.busy": "2022-10-25T07:14:27.397673Z",
     "iopub.status.idle": "2022-10-25T07:14:28.161815Z",
     "shell.execute_reply": "2022-10-25T07:14:28.160911Z",
     "shell.execute_reply.started": "2022-10-25T07:14:27.398385Z"
    }
   },
   "outputs": [],
   "source": [
    "# Data generator\n",
    "datagen = tf.keras.preprocessing.image.ImageDataGenerator(\n",
    "    rotation_range=10,\n",
    "    zoom_range=0.1,\n",
    "    width_shift_range=0.1,\n",
    "    height_shift_range=0.1\n",
    ")"
   ]
  },
  {
   "cell_type": "code",
   "execution_count": null,
   "metadata": {
    "execution": {
     "iopub.execute_input": "2022-10-25T07:14:28.163670Z",
     "iopub.status.busy": "2022-10-25T07:14:28.163336Z",
     "iopub.status.idle": "2022-10-25T07:14:28.740624Z",
     "shell.execute_reply": "2022-10-25T07:14:28.739660Z",
     "shell.execute_reply.started": "2022-10-25T07:14:28.163635Z"
    }
   },
   "outputs": [],
   "source": [
    "# Example of image generations\n",
    "X_example = X_train[18].reshape(1, 28, 28, 1)\n",
    "y_example = y_train[18].reshape(1, 10)\n",
    "\n",
    "plt.figure(figsize=(20, 3))\n",
    "for i in range(10):\n",
    "    plt.subplot(1, 10, i+1)\n",
    "    X_new, y_new = datagen.flow(X_example, y_example).next()\n",
    "    plt.imshow(X_new.reshape(28, 28), cmap='gray')\n",
    "    plt.axis('off')\n",
    "    \n",
    "plt.show()"
   ]
  },
  {
   "cell_type": "markdown",
   "metadata": {},
   "source": [
    "# Training"
   ]
  },
  {
   "cell_type": "code",
   "execution_count": null,
   "metadata": {
    "execution": {
     "iopub.execute_input": "2022-10-25T07:14:28.742811Z",
     "iopub.status.busy": "2022-10-25T07:14:28.742190Z",
     "iopub.status.idle": "2022-10-25T07:14:31.635371Z",
     "shell.execute_reply": "2022-10-25T07:14:31.634393Z",
     "shell.execute_reply.started": "2022-10-25T07:14:28.742770Z"
    }
   },
   "outputs": [],
   "source": [
    "inputs = tf.keras.Input(shape=(28, 28, 1))\n",
    "\n",
    "x = tf.keras.layers.Conv2D(filters=32, kernel_size=3, activation='relu')(inputs)\n",
    "x = tf.keras.layers.BatchNormalization()(x)\n",
    "x = tf.keras.layers.Conv2D(filters=32, kernel_size=3, activation='relu')(x)\n",
    "x = tf.keras.layers.BatchNormalization()(x)\n",
    "x = tf.keras.layers.Conv2D(filters=32, kernel_size=5, strides=2, padding='same', activation='relu')(x)\n",
    "x = tf.keras.layers.BatchNormalization()(x)\n",
    "x = tf.keras.layers.Dropout(0.4)(x)\n",
    "\n",
    "x = tf.keras.layers.Conv2D(filters=64, kernel_size=3, activation='relu')(x)\n",
    "x = tf.keras.layers.BatchNormalization()(x)\n",
    "x = tf.keras.layers.Conv2D(filters=64, kernel_size=3, activation='relu')(x)\n",
    "x = tf.keras.layers.BatchNormalization()(x)\n",
    "x = tf.keras.layers.Conv2D(filters=64, kernel_size=5, strides=2, padding='same', activation='relu')(x)\n",
    "x = tf.keras.layers.BatchNormalization()(x)\n",
    "x = tf.keras.layers.Dropout(0.4)(x)\n",
    "\n",
    "x = tf.keras.layers.Conv2D(filters=128, kernel_size=4, activation='relu')(x)\n",
    "x = tf.keras.layers.BatchNormalization()(x)\n",
    "x = tf.keras.layers.Flatten()(x)\n",
    "x = tf.keras.layers.Dropout(0.4)(x)\n",
    "outputs = tf.keras.layers.Dense(10, activation='softmax')(x)\n",
    "\n",
    "model = tf.keras.Model(inputs=inputs, outputs=outputs)\n",
    "model.summary()"
   ]
  },
  {
   "cell_type": "code",
   "execution_count": null,
   "metadata": {
    "execution": {
     "iopub.execute_input": "2022-10-25T07:14:31.637775Z",
     "iopub.status.busy": "2022-10-25T07:14:31.637061Z",
     "iopub.status.idle": "2022-10-25T07:14:32.013143Z",
     "shell.execute_reply": "2022-10-25T07:14:32.012150Z",
     "shell.execute_reply.started": "2022-10-25T07:14:31.637735Z"
    }
   },
   "outputs": [],
   "source": [
    "X_train, X_val, y_train, y_val = train_test_split(\n",
    "    X_train, y_train, train_size=0.9, shuffle=True, random_state=0\n",
    ")"
   ]
  },
  {
   "cell_type": "code",
   "execution_count": null,
   "metadata": {
    "execution": {
     "iopub.execute_input": "2022-10-25T07:14:32.017214Z",
     "iopub.status.busy": "2022-10-25T07:14:32.016313Z",
     "iopub.status.idle": "2022-10-25T07:24:51.879758Z",
     "shell.execute_reply": "2022-10-25T07:24:51.878791Z",
     "shell.execute_reply.started": "2022-10-25T07:14:32.017172Z"
    }
   },
   "outputs": [],
   "source": [
    "model.compile(\n",
    "    optimizer='adam',\n",
    "    loss='categorical_crossentropy',\n",
    "    metrics=['accuracy']   \n",
    ")\n",
    "\n",
    "history = model.fit_generator(\n",
    "    datagen.flow(X_train, y_train, batch_size=64),\n",
    "    validation_data=(X_val, y_val),\n",
    "    epochs=50,\n",
    "    callbacks=[\n",
    "        tf.keras.callbacks.LearningRateScheduler(\n",
    "            lambda x: 1e-3 * 0.95 ** x, verbose=0\n",
    "        )\n",
    "    ]\n",
    ")"
   ]
  },
  {
   "cell_type": "markdown",
   "metadata": {},
   "source": [
    "# Results"
   ]
  },
  {
   "cell_type": "code",
   "execution_count": null,
   "metadata": {},
   "outputs": [],
   "source": [
    "print(\"Training Accuracy: {:.3f} %\".format(max(history.history['accuracy']) * 100))\n",
    "print(\"Validation Accuracy: {:.3f} %\".format(max(history.history['val_accuracy']) * 100))"
   ]
  },
  {
   "cell_type": "markdown",
   "metadata": {},
   "source": [
    "This is a very good accuracy score."
   ]
  },
  {
   "cell_type": "markdown",
   "metadata": {},
   "source": [
    "# Display Predictions"
   ]
  },
  {
   "cell_type": "code",
   "execution_count": null,
   "metadata": {
    "execution": {
     "iopub.execute_input": "2022-10-25T07:24:51.895307Z",
     "iopub.status.busy": "2022-10-25T07:24:51.894949Z",
     "iopub.status.idle": "2022-10-25T07:24:54.828259Z",
     "shell.execute_reply": "2022-10-25T07:24:54.827263Z",
     "shell.execute_reply.started": "2022-10-25T07:24:51.895272Z"
    }
   },
   "outputs": [],
   "source": [
    "predictions = model.predict(X_test).argmax(axis=1)"
   ]
  },
  {
   "cell_type": "code",
   "execution_count": null,
   "metadata": {
    "execution": {
     "iopub.execute_input": "2022-10-25T07:24:54.830049Z",
     "iopub.status.busy": "2022-10-25T07:24:54.829663Z",
     "iopub.status.idle": "2022-10-25T07:24:57.381717Z",
     "shell.execute_reply": "2022-10-25T07:24:57.380793Z",
     "shell.execute_reply.started": "2022-10-25T07:24:54.830010Z"
    }
   },
   "outputs": [],
   "source": [
    "# Display predictions\n",
    "plt.figure(figsize=(18, 24))\n",
    "\n",
    "for i in range(64):\n",
    "    plt.subplot(8, 8, i+1)\n",
    "    plt.imshow(X_test[i], cmap='gray')\n",
    "    plt.title(f\"Pred: {predictions[i]}\")\n",
    "    plt.axis('off')\n",
    "    \n",
    "plt.show()"
   ]
  },
  {
   "cell_type": "markdown",
   "metadata": {},
   "source": [
    "The predictions seem correct."
   ]
  },
  {
   "cell_type": "markdown",
   "metadata": {},
   "source": [
    "# Generate Submission"
   ]
  },
  {
   "cell_type": "code",
   "execution_count": null,
   "metadata": {
    "execution": {
     "iopub.execute_input": "2022-10-25T07:24:57.383733Z",
     "iopub.status.busy": "2022-10-25T07:24:57.383250Z",
     "iopub.status.idle": "2022-10-25T07:24:57.435519Z",
     "shell.execute_reply": "2022-10-25T07:24:57.434592Z",
     "shell.execute_reply.started": "2022-10-25T07:24:57.383691Z"
    }
   },
   "outputs": [],
   "source": [
    "sample_submission = pd.read_csv('../input/digit-recognizer/sample_submission.csv')\n",
    "sample_submission['Label'] = predictions\n",
    "sample_submission.to_csv('submission.csv', index=False)\n",
    "sample_submission"
   ]
  },
  {
   "cell_type": "markdown",
   "metadata": {},
   "source": [
    "Accuracy score on the test set after submission: **99.607 %**"
   ]
  }
 ],
 "metadata": {
  "kaggle": {
   "accelerator": "gpu",
   "dataSources": [
    {
     "databundleVersionId": 861823,
     "sourceId": 3004,
     "sourceType": "competition"
    }
   ],
   "dockerImageVersionId": 30262,
   "isGpuEnabled": true,
   "isInternetEnabled": true,
   "language": "python",
   "sourceType": "notebook"
  },
  "kernelspec": {
   "display_name": "Python 3 (ipykernel)",
   "language": "python",
   "name": "python3"
  },
  "language_info": {
   "codemirror_mode": {
    "name": "ipython",
    "version": 3
   },
   "file_extension": ".py",
   "mimetype": "text/x-python",
   "name": "python",
   "nbconvert_exporter": "python",
   "pygments_lexer": "ipython3",
   "version": "3.9.13"
  }
 },
 "nbformat": 4,
 "nbformat_minor": 4
}
